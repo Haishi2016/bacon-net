{
 "cells": [
  {
   "cell_type": "code",
   "execution_count": 1,
   "metadata": {},
   "outputs": [],
   "source": [
    "from keras import backend as K \n",
    "from keras.layers import Layer"
   ]
  },
  {
   "cell_type": "code",
   "execution_count": 2,
   "metadata": {},
   "outputs": [],
   "source": [
    "class BaconStackLayer(Layer):\n",
    "    def __init__(self, output_dim, **kwargs):\n",
    "        self.output_dim = output_dim\n",
    "        super(BaconStackLayer, self).__init__(**kwargs)\n",
    "    def build(self, input_shape):\n",
    "        self.kernel = self.add_weight(name = 'kernel',\n",
    "            shape = (input_shape[1], self.output_dim),\n",
    "            initializer = 'normal', trainable = True)\n",
    "        super(BaconStackLayer, self).build(input_shape)\n",
    "    def call(self, input_data):\n",
    "        return K.dot(input_data, self.kernel)\n",
    "    def compute_output_shape(self, input_shape):\n",
    "        return (input_shape[0], self.output_dim)\n",
    "    "
   ]
  },
  {
   "cell_type": "code",
   "execution_count": 4,
   "metadata": {},
   "outputs": [
    {
     "name": "stdout",
     "output_type": "stream",
     "text": [
      "Model: \"sequential\"\n",
      "_________________________________________________________________\n",
      " Layer (type)                Output Shape              Param #   \n",
      "=================================================================\n",
      " bacon_stack_layer (BaconSta  (None, 32)               512       \n",
      " ckLayer)                                                        \n",
      "                                                                 \n",
      " dense (Dense)               (None, 8)                 264       \n",
      "                                                                 \n",
      "=================================================================\n",
      "Total params: 776\n",
      "Trainable params: 776\n",
      "Non-trainable params: 0\n",
      "_________________________________________________________________\n"
     ]
    }
   ],
   "source": [
    "from keras.models import Sequential \n",
    "from keras.layers import Dense \n",
    "\n",
    "model = Sequential() \n",
    "model.add(BaconStackLayer(32, input_shape = (16,))) \n",
    "model.add(Dense(8, activation = 'softmax')) \n",
    "model.summary()"
   ]
  },
  {
   "cell_type": "code",
   "execution_count": 24,
   "metadata": {},
   "outputs": [],
   "source": [
    "from abc import abstractmethod\n",
    "\n",
    "from abc import ABC\n",
    "import tensorflow as tf\n",
    "from tensorflow import keras\n",
    "from keras.utils.generic_utils import get_custom_objects\n",
    "from keras.layers import Activation\n",
    "import numpy as np\n",
    "import keras\n",
    "\n",
    "class baconNet(ABC):\n",
    "    def __custom_activation(self, x):\n",
    "        return x\n",
    "    def __init__(self, size, constantTerm=True):\n",
    "        get_custom_objects().update(\n",
    "            {'custom_activation': Activation(self.__custom_activation)})\n",
    "        self.__model = tf.keras.models.Sequential()\n",
    "        self.__model.add(tf.keras.Input(shape=(size,)))\n",
    "        self.__model.add(tf.keras.layers.Dense(\n",
    "            size, activation=self.__custom_activation))\n",
    "        self.__model.add(tf.keras.layers.Dense(\n",
    "            1, activation=self.__custom_activation))\n",
    "        self.__model.compile(\n",
    "            optimizer='adam', loss='mean_squared_error', metrics=['mae'])\n",
    "        self.__size = size\n",
    "        self.__constantTerm = constantTerm\n",
    "    @abstractmethod\n",
    "    def explain(self, singleVariable=False):\n",
    "        pass\n",
    "\n",
    "    @abstractmethod\n",
    "    def get_contribution(self, a, b):\n",
    "        m = np.matmul(\n",
    "            self.__model.layers[0].weights[0], self.__model.layers[1].weights[0])\n",
    "        if self.__constantTerm:\n",
    "            # assuming the last input is a constant column\n",
    "            bias0 = self.__model.layers[0].bias.numpy()\n",
    "            weight0 = self.__model.layers[0].weights[0][self.__size-1]\n",
    "            for i in range(len(bias0)):\n",
    "                bias0[i] = bias0[i] + weight0[i]\n",
    "            weight1 = self.__model.layers[1].weights[0]\n",
    "            for i in range(len(bias0)):\n",
    "                bias0[i] = bias0[i] * weight1[i][0]\n",
    "            c = bias0.sum() + self.__model.layers[1].bias.numpy()[0]\n",
    "        else:\n",
    "            c = 0\n",
    "        return m, c\n",
    "    @abstractmethod\n",
    "    def expand(self, a, b, y):\n",
    "        pass\n",
    "\n",
    "    def predict(self, a, b=0):\n",
    "        simple = False\n",
    "        if isinstance(a, list):\n",
    "            if isinstance(b, list):\n",
    "                x, X, y = self.expand(a, b, np.zeros(len(a)))\n",
    "            else:\n",
    "                x, X, y = self.expand(a, np.zeros(len(a)), np.zeros(len(a)))\n",
    "        else:\n",
    "            simple = True\n",
    "            x, X, y = self.expand([a], [b], [0])\n",
    "        if simple:\n",
    "            return self.__model.predict(X)[0][0]\n",
    "        else:\n",
    "            return self.__model.predict(X).flatten()\n",
    "\n",
    "    def fit(self, a, b, y):\n",
    "        callback = tf.keras.callbacks.EarlyStopping(monitor='mae', patience=20)\n",
    "        x, X, y = self.expand(a, b, y)\n",
    "        history = self.__model.fit(\n",
    "            X, y, epochs=600, batch_size=10, verbose=0, callbacks=[callback])\n",
    "        return history\n",
    "    def get_model(self):\n",
    "        return self.__model\n",
    "class poly2(baconNet):\n",
    "    def __init__(self):\n",
    "        super().__init__(6)\n",
    "\n",
    "    def get_contribution(self, a, b):\n",
    "        return super().get_contribution(a, b)\n",
    "\n",
    "    def explain(self, singleVariable=False):\n",
    "        a = 1\n",
    "        b = 1\n",
    "        if singleVariable:\n",
    "            b = 0\n",
    "        m, c = self.get_contribution(a, b)\n",
    "        delta = 0.01\n",
    "        terms = []\n",
    "        if abs(m[2][0]) > delta and abs(a) > delta:\n",
    "            terms.append(str(round(m[2][0], 4)) + \"x^2\")\n",
    "        if abs(m[4][0]) > delta and abs(b*a) > delta:\n",
    "            terms.append(str(round(m[4][0], 4)) + \"xy\")\n",
    "        if abs(m[3][0]) > delta and abs(b) > delta:\n",
    "            terms.append(str(round(m[3][0], 4)) + \"y^2\")\n",
    "        if abs(m[0][0]) > delta and abs(a) > delta:\n",
    "            terms.append(str(round(m[0][0], 4)) + \"x\")\n",
    "        if abs(m[1][0]) > delta and abs(b) > delta:\n",
    "            terms.append(str(round(m[1][0], 4)) + \"y\")\n",
    "        if abs(m[5][0]) > delta and abs(c) > delta:\n",
    "            terms.append(str(round(c, 4)))\n",
    "        return \"z = \" + \" + \".join(terms)\n",
    "\n",
    "    def expand(self, a, b, y):\n",
    "        X = np.column_stack((a, b,\n",
    "                             np.power(a, 2),\n",
    "                             np.power(b, 2),\n",
    "                             np.product(np.array([a, b]), axis=0),\n",
    "                             np.ones(len(a))))\n",
    "        return np.column_stack((a, b)), X, y\n",
    "\n",
    "class baconStack():\n",
    "    def __init__(self, bacons):\n",
    "        for bacon in bacons:\n",
    "            pass\n",
    "        inputs0 = keras.Input(shape=(6,))\n",
    "        x = poly2().get_model()(inputs0)\n",
    "        inputs1 = keras.Input(shape=(5,))\n",
    "        inputs2 = keras.Input(shape=(5,))\n",
    "        x = layers.concatenate([x, inputs1])\n",
    "        x = poly2().get_model()(x)\n",
    "        x = layers.concatenate([x, inputs2])\n",
    "        x = poly2().get_model()(x)\n",
    "        self.__model = keras.Model(inputs=[inputs0, inputs1, inputs2], outputs=[x], name=\"stack\")\n",
    "        plot_model(self.__model, \"multi_input_and_output_model.png\", show_shapes=True)\n"
   ]
  },
  {
   "cell_type": "code",
   "execution_count": 25,
   "metadata": {},
   "outputs": [],
   "source": [
    "stack = baconStack([])"
   ]
  },
  {
   "cell_type": "code",
   "execution_count": 1,
   "metadata": {},
   "outputs": [],
   "source": [
    "import tensorflow as tf\n",
    "from tensorflow import keras\n",
    "from tensorflow.keras import Model\n",
    "\n",
    "from tensorflow.keras.utils import plot_model\n",
    "from tensorflow.keras.layers import Input, Dense, BatchNormalization\n",
    "from IPython.core.display import Image\n",
    "import numpy as np\n",
    "import tensorflow as tf\n",
    "from tensorflow import keras\n",
    "from tensorflow.keras import layers"
   ]
  },
  {
   "cell_type": "code",
   "execution_count": 45,
   "metadata": {},
   "outputs": [
    {
     "ename": "AttributeError",
     "evalue": "module 'sympy' has no attribute 'external'",
     "output_type": "error",
     "traceback": [
      "\u001b[1;31m---------------------------------------------------------------------------\u001b[0m",
      "\u001b[1;31mAttributeError\u001b[0m                            Traceback (most recent call last)",
      "\u001b[1;32m~\\AppData\\Local\\Temp/ipykernel_114936/15813589.py\u001b[0m in \u001b[0;36m<module>\u001b[1;34m\u001b[0m\n\u001b[1;32m----> 1\u001b[1;33m \u001b[1;32mfrom\u001b[0m \u001b[0msympy\u001b[0m \u001b[1;32mimport\u001b[0m \u001b[1;33m*\u001b[0m\u001b[1;33m\u001b[0m\u001b[1;33m\u001b[0m\u001b[0m\n\u001b[0m",
      "\u001b[1;31mAttributeError\u001b[0m: module 'sympy' has no attribute 'external'"
     ]
    }
   ],
   "source": [
    "from sympy import *"
   ]
  }
 ],
 "metadata": {
  "interpreter": {
   "hash": "b23a7a0c95b09439a384ed04e962ef1ac04ba36637d8a97ca36cfaebc88e2490"
  },
  "kernelspec": {
   "display_name": "Python 3.9.9 64-bit",
   "language": "python",
   "name": "python3"
  },
  "language_info": {
   "codemirror_mode": {
    "name": "ipython",
    "version": 3
   },
   "file_extension": ".py",
   "mimetype": "text/x-python",
   "name": "python",
   "nbconvert_exporter": "python",
   "pygments_lexer": "ipython3",
   "version": "3.9.9"
  },
  "orig_nbformat": 4
 },
 "nbformat": 4,
 "nbformat_minor": 2
}
