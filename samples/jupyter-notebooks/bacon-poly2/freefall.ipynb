{
 "cells": [
  {
   "cell_type": "markdown",
   "metadata": {},
   "source": [
    "# Freefall\n",
    "\n",
    "This sample uses [bacon-poly2](https://github.com/Haishi2016/bacon-net/) to rediscover the freefall formula: \n",
    "\n",
    "![freefall](https://github.com/Haishi2016/bacon-net/raw/main/images/freefall.png)"
   ]
  },
  {
   "cell_type": "code",
   "execution_count": 3,
   "metadata": {},
   "outputs": [],
   "source": [
    "from bacon import dataCreator\n",
    "from nets.poly2 import poly2\n",
    "import numpy as np"
   ]
  },
  {
   "cell_type": "code",
   "execution_count": 2,
   "metadata": {},
   "outputs": [],
   "source": [
    "# Create a new instance of Bacon-Poly2 network\n",
    "net = poly2()"
   ]
  },
  {
   "cell_type": "markdown",
   "metadata": {},
   "source": [
    "To train the network, you'll need a dataset with three columns: input `a`, input `b`, and expected output. Bacon-Net comes with a `dataCreator` utility that can help you to create such a dataset using a lambda expression you provide. The method also takes an optional `singleVariable` parameter. When set, the input `b` colum is populated with zeros."
   ]
  },
  {
   "cell_type": "code",
   "execution_count": 19,
   "metadata": {},
   "outputs": [],
   "source": [
    "# generate 1000 data entries, scaled to [0,1], with lambda y = 1/2Gx^2 G=9.81\n",
    "a, b, y = dataCreator.create(1000, 1, lambda a, b: 0.5 * 9.81 * a * a, singleVariable=True)\n"
   ]
  },
  {
   "cell_type": "code",
   "execution_count": 20,
   "metadata": {},
   "outputs": [
    {
     "name": "stdout",
     "output_type": "stream",
     "text": [
      "[[0.81496368 0.         3.25773327]\n",
      " [0.69189606 0.         2.34812239]\n",
      " [0.56146997 0.         1.54629402]\n",
      " ...\n",
      " [0.68598386 0.         2.30816476]\n",
      " [0.8318971  0.         3.39451895]\n",
      " [0.02705759 0.         0.00359102]]\n"
     ]
    }
   ],
   "source": [
    "# OPTIONAL: print out the dataset\n",
    "print(np.column_stack((a,b,y)))"
   ]
  },
  {
   "cell_type": "code",
   "execution_count": 21,
   "metadata": {},
   "outputs": [],
   "source": [
    "# Train the network\n",
    "history = net.fit(a,b,y)"
   ]
  },
  {
   "cell_type": "code",
   "execution_count": 22,
   "metadata": {},
   "outputs": [
    {
     "data": {
      "image/png": "[encoded data removed]",
      "text/plain": [
       "<Figure size 432x288 with 1 Axes>"
      ]
     },
     "metadata": {
      "needs_background": "light"
     },
     "output_type": "display_data"
    }
   ],
   "source": [
    "# OPTIONAL: Plot learning history. Bacon-Net does early stopping after no improvements after 10 iterations\n",
    "import matplotlib.pyplot as plt\n",
    "plt.plot(history.history['loss'])\n",
    "plt.plot(history.history['mae'])\n",
    "plt.ylabel('mae')\n",
    "plt.xlabel('epoch')\n",
    "plt.show()"
   ]
  },
  {
   "cell_type": "code",
   "execution_count": 23,
   "metadata": {},
   "outputs": [
    {
     "name": "stdout",
     "output_type": "stream",
     "text": [
      "z = 4.905x^2\n"
     ]
    }
   ],
   "source": [
    "# Explain the network\n",
    "m = net.explain(singleVariable=True)\n",
    "print(m)"
   ]
  },
  {
   "cell_type": "markdown",
   "metadata": {},
   "source": [
    "Congratulations! You've just re-discovered the freefall formula!"
   ]
  },
  {
   "cell_type": "code",
   "execution_count": 24,
   "metadata": {},
   "outputs": [
    {
     "name": "stdout",
     "output_type": "stream",
     "text": [
      "4.9049993\n"
     ]
    }
   ],
   "source": [
    "# OPTIONAL: Use the network to make predictions\n",
    "y = net.predict(1)\n",
    "print(y)"
   ]
  },
  {
   "cell_type": "code",
   "execution_count": 27,
   "metadata": {},
   "outputs": [
    {
     "name": "stdout",
     "output_type": "stream",
     "text": [
      "[  4.9049993  19.619995   44.14499    78.47998   122.62496  ]\n"
     ]
    }
   ],
   "source": [
    "# OPTIONAL: Run prediction on an array\n",
    "y = net.predict([1,2,3,4,5])\n",
    "print(y)"
   ]
  },
  {
   "cell_type": "code",
   "execution_count": 28,
   "metadata": {},
   "outputs": [
    {
     "data": {
      "image/png": "[encoded data removed]",
      "text/plain": [
       "<Figure size 432x288 with 1 Axes>"
      ]
     },
     "metadata": {
      "needs_background": "light"
     },
     "output_type": "display_data"
    }
   ],
   "source": [
    "# OPTIONAL: Plot the function\n",
    "x = np.arange(1,100,1).tolist()\n",
    "y = net.predict(x)\n",
    "plt.plot(x, y)\n",
    "plt.show()"
   ]
  }
 ],
 "metadata": {
  "interpreter": {
   "hash": "b23a7a0c95b09439a384ed04e962ef1ac04ba36637d8a97ca36cfaebc88e2490"
  },
  "kernelspec": {
   "display_name": "Python 3.9.9 64-bit",
   "language": "python",
   "name": "python3"
  },
  "language_info": {
   "codemirror_mode": {
    "name": "ipython",
    "version": 3
   },
   "file_extension": ".py",
   "mimetype": "text/x-python",
   "name": "python",
   "nbconvert_exporter": "python",
   "pygments_lexer": "ipython3",
   "version": "3.9.9"
  },
  "orig_nbformat": 4
 },
 "nbformat": 4,
 "nbformat_minor": 2
}
